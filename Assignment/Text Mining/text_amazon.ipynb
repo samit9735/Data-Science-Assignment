{
 "cells": [
  {
   "cell_type": "code",
   "execution_count": 6,
   "id": "01fa188f",
   "metadata": {},
   "outputs": [],
   "source": [
    "import requests\n",
    "from bs4 import BeautifulSoup\n",
    "\n",
    "def get_reviews(p_name):\n",
    "    url = \"http://www.amazon.in/s/ref=nb_sb_noss?url=search-alias%3Daps&field-keywords=\" + p_name\n",
    "    r = requests.get(url)\n",
    "    soup = BeautifulSoup(r.content,\"html.parser\")\n",
    "    \n",
    "    pid = soup.find_all(\"li\",{\"class\":\"s-result-item celwidget\"})[0].get(\"data-asin\")\n",
    "    plink = soup.find_all(\"li\",{\"class\":\"s-result-item celwidget\"})[0].find_all(\"a\",\n",
    "                                {\"class\":\"a-link-normal s-access-detail-page  a-text-normal\"})[0].get(\"href\")\n",
    "    \n",
    "    new_url = \"http://www.amazon.in/product-reviews/\" + pid + \"/ref=acr_search_see_all?ie=UTF8&showViewpoints=1\"\n",
    "    r = requests.get(new_url)\n",
    "    soup = BeautifulSoup(r.content,\"html.parser\")\n",
    "    \n",
    "    reviews_list = soup.find_all(\"div\",{\"class\":\"a-section a-spacing-none reviews celwidget\"})[0]\n",
    "    \n",
    "    for review in reviews_list:\n",
    "        try:\n",
    "            next_review = review.find_all(\"span\",{\"class\":\"a-size-base review-text\"})[0].text\n",
    "            print(next_review,end=\"[END]\")\n",
    "            print(\"\\n\")\n",
    "        except:\n",
    "            pass\n",
    "\n",
    "\n",
    "if '__name__' == '__main__':\n",
    "    p_name = input(\"Enter a product name : \")\n",
    "    get_reviews(p_name)"
   ]
  },
  {
   "cell_type": "code",
   "execution_count": null,
   "id": "efda17fa",
   "metadata": {},
   "outputs": [],
   "source": []
  }
 ],
 "metadata": {
  "kernelspec": {
   "display_name": "Python 3 (ipykernel)",
   "language": "python",
   "name": "python3"
  },
  "language_info": {
   "codemirror_mode": {
    "name": "ipython",
    "version": 3
   },
   "file_extension": ".py",
   "mimetype": "text/x-python",
   "name": "python",
   "nbconvert_exporter": "python",
   "pygments_lexer": "ipython3",
   "version": "3.9.7"
  }
 },
 "nbformat": 4,
 "nbformat_minor": 5
}
